{
  "nbformat": 4,
  "nbformat_minor": 0,
  "metadata": {
    "colab": {
      "provenance": [],
      "authorship_tag": "ABX9TyOBn6s5s9u9zta4BDrJaeV9",
      "include_colab_link": true
    },
    "kernelspec": {
      "name": "python3",
      "display_name": "Python 3"
    },
    "language_info": {
      "name": "python"
    }
  },
  "cells": [
    {
      "cell_type": "markdown",
      "metadata": {
        "id": "view-in-github",
        "colab_type": "text"
      },
      "source": [
        "<a href=\"https://colab.research.google.com/github/preetamjumech/txta_using_spacy/blob/main/Preetam_Saha_09_10_2022_Spacy_Practice_The_Hindu.ipynb\" target=\"_parent\"><img src=\"https://colab.research.google.com/assets/colab-badge.svg\" alt=\"Open In Colab\"/></a>"
      ]
    },
    {
      "cell_type": "code",
      "execution_count": 1,
      "metadata": {
        "id": "R6tmcZv5_4Ux"
      },
      "outputs": [],
      "source": [
        "import spacy\n",
        "import pandas as pd\n",
        "import numpy as np\n",
        "from bs4 import BeautifulSoup\n",
        "import re"
      ]
    },
    {
      "cell_type": "code",
      "source": [
        "url = \"https://www.thehindu.com/sport/cricket/india-vs-south-africa-second-one-day-international-match-in-ranchi/article65988067.ece\""
      ],
      "metadata": {
        "id": "tvVB4owYAWxx"
      },
      "execution_count": 2,
      "outputs": []
    },
    {
      "cell_type": "code",
      "source": [
        "header = {\"User-Agent\":\"Mozilla/5.0 (Windows NT 10.0; Win64; x64) AppleWebKit/537.36 (KHTML, like Gecko) Chrome/105.0.0.0 Safari/537.36\"}"
      ],
      "metadata": {
        "id": "R4jksoKhAeMZ"
      },
      "execution_count": 3,
      "outputs": []
    },
    {
      "cell_type": "code",
      "source": [
        "import requests"
      ],
      "metadata": {
        "id": "p6cnvLtnAjmL"
      },
      "execution_count": 4,
      "outputs": []
    },
    {
      "cell_type": "code",
      "source": [
        "doc = requests.get(url,header)"
      ],
      "metadata": {
        "id": "YP0a9MOCAoMh"
      },
      "execution_count": 6,
      "outputs": []
    },
    {
      "cell_type": "code",
      "source": [
        "bsObj = BeautifulSoup(doc.text,\"html.parser\")"
      ],
      "metadata": {
        "id": "74cLNuVzAwad"
      },
      "execution_count": 7,
      "outputs": []
    },
    {
      "cell_type": "code",
      "source": [
        "bsObj"
      ],
      "metadata": {
        "id": "jq-Ktw-3BByK"
      },
      "execution_count": null,
      "outputs": []
    },
    {
      "cell_type": "code",
      "source": [
        "news = bsObj.find(name = \"div\", attrs ={\"id\":\"content-body-65988067\"}).text"
      ],
      "metadata": {
        "id": "hHA0Z0uhBEpD"
      },
      "execution_count": 13,
      "outputs": []
    },
    {
      "cell_type": "code",
      "source": [
        "news"
      ],
      "metadata": {
        "colab": {
          "base_uri": "https://localhost:8080/",
          "height": 105
        },
        "id": "qc_7grxOBxdZ",
        "outputId": "8dcd7d9f-f1fa-4f98-e77c-9536ffba8dab"
      },
      "execution_count": 14,
      "outputs": [
        {
          "output_type": "execute_result",
          "data": {
            "text/plain": [
              "' When two talented stroke makers decide to put on a show for a near full-house, there isn’t much a fielding side could do.South Africa was at the receiving end of a spectacular display of batting by Ishan Kishan\\xa0(93, 84b, 4x4, 7x6)\\xa0and Shreyas Iyer (113 not out, 111b, 15x4) at the JSCA Stadium on a pleasant Sunday night. Riding on their 161-run stand for the third wicket, India won the second ODI to level the three-match series.The host was set a target of 279. It was achieved with ridiculous ease, with 4.1 overs and seven wickets to spare.Before the Shreyas-Kishan show began, there was a teaser from opener Shubman Gill, who was looking in ominous touch before he fell to superb, low return catch to Kagiso. Shreyas and Kishan tore into a quality attack. Kishan, playing in front of his home crowd, went after the bowlers after getting his eye in. He was severe on the spinners and didn’t spare the quicks — even the express pace of Anrich Nortje, whom he smashed for successive sixes on the leg-side.He was unlucky to find the fielder near the deep mid-wicket boundary, though, when he was seven short of a hundred. Shreyas, however, went on to complete his second ODI hundred, and take India home in the company of Sanju Samson.\\xa0\\xa0The South African innings was built on an attractive 129-run partnership for the third wicket between Reeza Hendricks (74, 76b, 9x4, 1x6) and Aiden Markram (79, 89b, 7x4, 1x6). They came together at the fall of Janneman Malan, who was found to be lbw to debutant Shahbaz Ahmed when the original decision was reviewed. Shahbaz was one of the two changes India made from the team that played the first ODI at Lucknow, the other being Washington Sundar; they replaced Ruturaj Gaikwad and Ravi Bishnoi. South Africa showed three changes, as Hendricks, Anrich Nortje and Bjorn Fortuin came in for skipper Temba Bavuma, Tabraiz Shamsi and Lungi Ngidi. Bavuma and Shamsi were unwell, the stand-in captain Keshav Maharaj said.Siraj was the pick of the Indian bowlers. His final spell was exceptional and it was one of the reasons why the South African innings failed to accelerate towards the end despite being set up nicely by Hendricks and Markram. They both paced their innings and played some delightful strokes.\\xa0India came up with a much-improved display in the field too.\\xa0Captain Shikhar Dhawan shuffled his bowlers around rather well, too.\\nBrief Scores:\\nSouth Africa: 278/7 in 50 overs (Aiden Markram 79, Reeza Hendricks 74; Mohammed Siraj 3/38).India: 282/3 in 45.5 overs (Shreyas Iyer 113 not out, Ishan Kishan 93; Wayne Parnell 1/43).'"
            ],
            "application/vnd.google.colaboratory.intrinsic+json": {
              "type": "string"
            }
          },
          "metadata": {},
          "execution_count": 14
        }
      ]
    },
    {
      "cell_type": "code",
      "source": [
        "!python -m spacy download en_core_web_lg"
      ],
      "metadata": {
        "colab": {
          "base_uri": "https://localhost:8080/"
        },
        "id": "qQ0d4YaKB047",
        "outputId": "db9da9d5-b73d-42e9-88c1-93908da90271"
      },
      "execution_count": 15,
      "outputs": [
        {
          "output_type": "stream",
          "name": "stdout",
          "text": [
            "2022-10-09 18:38:20.630829: E tensorflow/stream_executor/cuda/cuda_driver.cc:271] failed call to cuInit: CUDA_ERROR_NO_DEVICE: no CUDA-capable device is detected\n",
            "Looking in indexes: https://pypi.org/simple, https://us-python.pkg.dev/colab-wheels/public/simple/\n",
            "Collecting en-core-web-lg==3.4.0\n",
            "  Downloading https://github.com/explosion/spacy-models/releases/download/en_core_web_lg-3.4.0/en_core_web_lg-3.4.0-py3-none-any.whl (587.7 MB)\n",
            "\u001b[K     |████████████████████████████████| 587.7 MB 7.2 kB/s \n",
            "\u001b[?25hRequirement already satisfied: spacy<3.5.0,>=3.4.0 in /usr/local/lib/python3.7/dist-packages (from en-core-web-lg==3.4.0) (3.4.1)\n",
            "Requirement already satisfied: packaging>=20.0 in /usr/local/lib/python3.7/dist-packages (from spacy<3.5.0,>=3.4.0->en-core-web-lg==3.4.0) (21.3)\n",
            "Requirement already satisfied: tqdm<5.0.0,>=4.38.0 in /usr/local/lib/python3.7/dist-packages (from spacy<3.5.0,>=3.4.0->en-core-web-lg==3.4.0) (4.64.1)\n",
            "Requirement already satisfied: catalogue<2.1.0,>=2.0.6 in /usr/local/lib/python3.7/dist-packages (from spacy<3.5.0,>=3.4.0->en-core-web-lg==3.4.0) (2.0.8)\n",
            "Requirement already satisfied: requests<3.0.0,>=2.13.0 in /usr/local/lib/python3.7/dist-packages (from spacy<3.5.0,>=3.4.0->en-core-web-lg==3.4.0) (2.23.0)\n",
            "Requirement already satisfied: murmurhash<1.1.0,>=0.28.0 in /usr/local/lib/python3.7/dist-packages (from spacy<3.5.0,>=3.4.0->en-core-web-lg==3.4.0) (1.0.8)\n",
            "Requirement already satisfied: typer<0.5.0,>=0.3.0 in /usr/local/lib/python3.7/dist-packages (from spacy<3.5.0,>=3.4.0->en-core-web-lg==3.4.0) (0.4.2)\n",
            "Requirement already satisfied: typing-extensions<4.2.0,>=3.7.4 in /usr/local/lib/python3.7/dist-packages (from spacy<3.5.0,>=3.4.0->en-core-web-lg==3.4.0) (4.1.1)\n",
            "Requirement already satisfied: setuptools in /usr/local/lib/python3.7/dist-packages (from spacy<3.5.0,>=3.4.0->en-core-web-lg==3.4.0) (57.4.0)\n",
            "Requirement already satisfied: thinc<8.2.0,>=8.1.0 in /usr/local/lib/python3.7/dist-packages (from spacy<3.5.0,>=3.4.0->en-core-web-lg==3.4.0) (8.1.2)\n",
            "Requirement already satisfied: spacy-loggers<2.0.0,>=1.0.0 in /usr/local/lib/python3.7/dist-packages (from spacy<3.5.0,>=3.4.0->en-core-web-lg==3.4.0) (1.0.3)\n",
            "Requirement already satisfied: wasabi<1.1.0,>=0.9.1 in /usr/local/lib/python3.7/dist-packages (from spacy<3.5.0,>=3.4.0->en-core-web-lg==3.4.0) (0.10.1)\n",
            "Requirement already satisfied: pydantic!=1.8,!=1.8.1,<1.10.0,>=1.7.4 in /usr/local/lib/python3.7/dist-packages (from spacy<3.5.0,>=3.4.0->en-core-web-lg==3.4.0) (1.9.2)\n",
            "Requirement already satisfied: jinja2 in /usr/local/lib/python3.7/dist-packages (from spacy<3.5.0,>=3.4.0->en-core-web-lg==3.4.0) (2.11.3)\n",
            "Requirement already satisfied: srsly<3.0.0,>=2.4.3 in /usr/local/lib/python3.7/dist-packages (from spacy<3.5.0,>=3.4.0->en-core-web-lg==3.4.0) (2.4.4)\n",
            "Requirement already satisfied: numpy>=1.15.0 in /usr/local/lib/python3.7/dist-packages (from spacy<3.5.0,>=3.4.0->en-core-web-lg==3.4.0) (1.21.6)\n",
            "Requirement already satisfied: cymem<2.1.0,>=2.0.2 in /usr/local/lib/python3.7/dist-packages (from spacy<3.5.0,>=3.4.0->en-core-web-lg==3.4.0) (2.0.6)\n",
            "Requirement already satisfied: pathy>=0.3.5 in /usr/local/lib/python3.7/dist-packages (from spacy<3.5.0,>=3.4.0->en-core-web-lg==3.4.0) (0.6.2)\n",
            "Requirement already satisfied: spacy-legacy<3.1.0,>=3.0.9 in /usr/local/lib/python3.7/dist-packages (from spacy<3.5.0,>=3.4.0->en-core-web-lg==3.4.0) (3.0.10)\n",
            "Requirement already satisfied: preshed<3.1.0,>=3.0.2 in /usr/local/lib/python3.7/dist-packages (from spacy<3.5.0,>=3.4.0->en-core-web-lg==3.4.0) (3.0.7)\n",
            "Requirement already satisfied: langcodes<4.0.0,>=3.2.0 in /usr/local/lib/python3.7/dist-packages (from spacy<3.5.0,>=3.4.0->en-core-web-lg==3.4.0) (3.3.0)\n",
            "Requirement already satisfied: zipp>=0.5 in /usr/local/lib/python3.7/dist-packages (from catalogue<2.1.0,>=2.0.6->spacy<3.5.0,>=3.4.0->en-core-web-lg==3.4.0) (3.8.1)\n",
            "Requirement already satisfied: pyparsing!=3.0.5,>=2.0.2 in /usr/local/lib/python3.7/dist-packages (from packaging>=20.0->spacy<3.5.0,>=3.4.0->en-core-web-lg==3.4.0) (3.0.9)\n",
            "Requirement already satisfied: smart-open<6.0.0,>=5.2.1 in /usr/local/lib/python3.7/dist-packages (from pathy>=0.3.5->spacy<3.5.0,>=3.4.0->en-core-web-lg==3.4.0) (5.2.1)\n",
            "Requirement already satisfied: idna<3,>=2.5 in /usr/local/lib/python3.7/dist-packages (from requests<3.0.0,>=2.13.0->spacy<3.5.0,>=3.4.0->en-core-web-lg==3.4.0) (2.10)\n",
            "Requirement already satisfied: urllib3!=1.25.0,!=1.25.1,<1.26,>=1.21.1 in /usr/local/lib/python3.7/dist-packages (from requests<3.0.0,>=2.13.0->spacy<3.5.0,>=3.4.0->en-core-web-lg==3.4.0) (1.24.3)\n",
            "Requirement already satisfied: certifi>=2017.4.17 in /usr/local/lib/python3.7/dist-packages (from requests<3.0.0,>=2.13.0->spacy<3.5.0,>=3.4.0->en-core-web-lg==3.4.0) (2022.9.24)\n",
            "Requirement already satisfied: chardet<4,>=3.0.2 in /usr/local/lib/python3.7/dist-packages (from requests<3.0.0,>=2.13.0->spacy<3.5.0,>=3.4.0->en-core-web-lg==3.4.0) (3.0.4)\n",
            "Requirement already satisfied: blis<0.8.0,>=0.7.8 in /usr/local/lib/python3.7/dist-packages (from thinc<8.2.0,>=8.1.0->spacy<3.5.0,>=3.4.0->en-core-web-lg==3.4.0) (0.7.8)\n",
            "Requirement already satisfied: confection<1.0.0,>=0.0.1 in /usr/local/lib/python3.7/dist-packages (from thinc<8.2.0,>=8.1.0->spacy<3.5.0,>=3.4.0->en-core-web-lg==3.4.0) (0.0.2)\n",
            "Requirement already satisfied: click<9.0.0,>=7.1.1 in /usr/local/lib/python3.7/dist-packages (from typer<0.5.0,>=0.3.0->spacy<3.5.0,>=3.4.0->en-core-web-lg==3.4.0) (7.1.2)\n",
            "Requirement already satisfied: MarkupSafe>=0.23 in /usr/local/lib/python3.7/dist-packages (from jinja2->spacy<3.5.0,>=3.4.0->en-core-web-lg==3.4.0) (2.0.1)\n",
            "Installing collected packages: en-core-web-lg\n",
            "Successfully installed en-core-web-lg-3.4.0\n",
            "\u001b[38;5;2m✔ Download and installation successful\u001b[0m\n",
            "You can now load the package via spacy.load('en_core_web_lg')\n"
          ]
        }
      ]
    },
    {
      "cell_type": "code",
      "source": [
        "nlp = spacy.load(\"en_core_web_lg\")"
      ],
      "metadata": {
        "id": "paVGypI1CmLd"
      },
      "execution_count": 16,
      "outputs": []
    },
    {
      "cell_type": "code",
      "source": [
        "texts = nlp(news)"
      ],
      "metadata": {
        "id": "N4giHFPYDcOp"
      },
      "execution_count": 18,
      "outputs": []
    },
    {
      "cell_type": "code",
      "source": [
        "for token in texts[:50]:\n",
        "  print(token.text,token.pos_)"
      ],
      "metadata": {
        "colab": {
          "base_uri": "https://localhost:8080/"
        },
        "id": "Qn6ZUwu4DoeV",
        "outputId": "30032654-19a3-418e-ac2d-1e9ee9e1b49b"
      },
      "execution_count": 19,
      "outputs": [
        {
          "output_type": "stream",
          "name": "stdout",
          "text": [
            "  SPACE\n",
            "When SCONJ\n",
            "two NUM\n",
            "talented ADJ\n",
            "stroke NOUN\n",
            "makers NOUN\n",
            "decide VERB\n",
            "to PART\n",
            "put VERB\n",
            "on ADP\n",
            "a DET\n",
            "show NOUN\n",
            "for ADP\n",
            "a DET\n",
            "near ADJ\n",
            "full ADJ\n",
            "- PUNCT\n",
            "house NOUN\n",
            ", PUNCT\n",
            "there PRON\n",
            "is VERB\n",
            "n’t PART\n",
            "much ADV\n",
            "a DET\n",
            "fielding NOUN\n",
            "side NOUN\n",
            "could AUX\n",
            "do VERB\n",
            ". PUNCT\n",
            "South PROPN\n",
            "Africa PROPN\n",
            "was AUX\n",
            "at ADP\n",
            "the DET\n",
            "receiving NOUN\n",
            "end NOUN\n",
            "of ADP\n",
            "a DET\n",
            "spectacular ADJ\n",
            "display NOUN\n",
            "of ADP\n",
            "batting NOUN\n",
            "by ADP\n",
            "Ishan PROPN\n",
            "Kishan PROPN\n",
            "  SPACE\n",
            "( PUNCT\n",
            "93 NUM\n",
            ", PUNCT\n",
            "84b NUM\n"
          ]
        }
      ]
    },
    {
      "cell_type": "code",
      "source": [
        "list(texts.noun_chunks)[:20]"
      ],
      "metadata": {
        "colab": {
          "base_uri": "https://localhost:8080/"
        },
        "id": "t4z4wt5wDyUO",
        "outputId": "23b381dc-0cf8-44ae-fac1-d9339f510706"
      },
      "execution_count": 22,
      "outputs": [
        {
          "output_type": "execute_result",
          "data": {
            "text/plain": [
              "[two talented stroke makers,\n",
              " a show,\n",
              " a near full-house,\n",
              " a fielding side,\n",
              " South Africa,\n",
              " the receiving end,\n",
              " a spectacular display,\n",
              " batting,\n",
              " Ishan Kishan,\n",
              " Shreyas Iyer,\n",
              " 111b,\n",
              " the JSCA Stadium,\n",
              " a pleasant Sunday night,\n",
              " their 161-run stand,\n",
              " the third wicket,\n",
              " India,\n",
              " the second ODI,\n",
              " the three-match series,\n",
              " The host,\n",
              " a target]"
            ]
          },
          "metadata": {},
          "execution_count": 22
        }
      ]
    },
    {
      "cell_type": "code",
      "source": [
        "for chunk in texts.noun_chunks:\n",
        "  if len(chunk)>3:\n",
        "    print(chunk)"
      ],
      "metadata": {
        "colab": {
          "base_uri": "https://localhost:8080/"
        },
        "id": "mo-Zy1MLD9-F",
        "outputId": "5f8e2b28-e0f3-44d1-cdc4-4d17894b40e4"
      },
      "execution_count": 24,
      "outputs": [
        {
          "output_type": "stream",
          "name": "stdout",
          "text": [
            "two talented stroke makers\n",
            "a near full-house\n",
            "a pleasant Sunday night\n",
            "their 161-run stand\n",
            "the three-match series\n",
            "the Shreyas-Kishan show\n",
            "superb, low return catch\n",
            "even the express pace\n",
            "the leg-side\n",
            "the deep mid-wicket boundary\n",
            "The South African innings\n",
            "an attractive 129-run partnership\n",
            "the stand-in captain\n",
            "the South African innings\n",
            "a much-improved display\n"
          ]
        }
      ]
    },
    {
      "cell_type": "code",
      "source": [
        "list(texts.sents)"
      ],
      "metadata": {
        "colab": {
          "base_uri": "https://localhost:8080/"
        },
        "id": "lBs75kOdEOvI",
        "outputId": "b9b6059c-d634-4c19-d599-e992246e1bf5"
      },
      "execution_count": 25,
      "outputs": [
        {
          "output_type": "execute_result",
          "data": {
            "text/plain": [
              "[ ,\n",
              " When two talented stroke makers decide to put on a show for a near full-house, there isn’t much a fielding side could do.,\n",
              " South Africa was at the receiving end of a spectacular display of batting by Ishan Kishan (93, 84b, 4x4, 7x6) and Shreyas Iyer (113 not out, 111b, 15x4) at the JSCA Stadium on a pleasant Sunday night.,\n",
              " Riding on their 161-run stand for the third wicket, India won the second ODI to level the three-match series.,\n",
              " The host was set a target of 279.,\n",
              " It was achieved with ridiculous ease, with 4.1 overs and seven wickets to spare.,\n",
              " Before the Shreyas-Kishan show began, there was a teaser from opener Shubman Gill, who was looking in ominous touch before he fell to superb, low return catch to Kagiso.,\n",
              " Shreyas and Kishan tore into a quality attack.,\n",
              " Kishan, playing in front of his home crowd, went after the bowlers after getting his eye in.,\n",
              " He was severe on the spinners and didn’t spare the quicks — even the express pace of Anrich Nortje, whom he smashed for successive sixes on the leg-side.,\n",
              " He was unlucky to find the fielder near the deep mid-wicket boundary, though, when he was seven short of a hundred.,\n",
              " Shreyas, however, went on to complete his second ODI hundred, and take India home in the company of Sanju Samson.,\n",
              "   The South African innings was built on an attractive 129-run partnership for the third wicket between Reeza Hendricks (74, 76b, 9x4, 1x6) and Aiden Markram (79, 89b, 7x4, 1x6).,\n",
              " They came together at the fall of Janneman Malan, who was found to be lbw to debutant Shahbaz Ahmed when the original decision was reviewed.,\n",
              " Shahbaz was one of the two changes India made from the team that played the first ODI at Lucknow, the other being Washington Sundar; they replaced Ruturaj Gaikwad and Ravi Bishnoi.,\n",
              " South Africa showed three changes, as Hendricks, Anrich Nortje and Bjorn Fortuin came in for skipper Temba Bavuma, Tabraiz Shamsi and Lungi Ngidi.,\n",
              " Bavuma and Shamsi were unwell, the stand-in captain Keshav Maharaj said.,\n",
              " Siraj was the pick of the Indian bowlers.,\n",
              " His final spell was exceptional and it was one of the reasons why the South African innings failed to accelerate towards the end despite being set up nicely by Hendricks and Markram.,\n",
              " They both paced their innings and played some delightful strokes. ,\n",
              " India came up with a much-improved display in the field too. ,\n",
              " Captain Shikhar Dhawan shuffled his bowlers around rather well, too.,\n",
              " Brief Scores:\n",
              " South Africa: 278/7 in 50 overs (Aiden Markram 79, Reeza Hendricks 74; Mohammed Siraj 3/38).India: 282/3 in 45.5 overs (Shreyas Iyer 113 not out, Ishan Kishan 93; Wayne Parnell 1/43).]"
            ]
          },
          "metadata": {},
          "execution_count": 25
        }
      ]
    },
    {
      "cell_type": "code",
      "source": [
        "for ent in texts.ents:\n",
        "  print(ent)"
      ],
      "metadata": {
        "colab": {
          "base_uri": "https://localhost:8080/"
        },
        "id": "Sf6YEvB_EX3h",
        "outputId": "c6f40a5b-b540-410a-a510-3ddd0890c3fb"
      },
      "execution_count": 26,
      "outputs": [
        {
          "output_type": "stream",
          "name": "stdout",
          "text": [
            "two\n",
            "South Africa\n",
            "Ishan Kishan\n",
            "93\n",
            "84b\n",
            "7x6\n",
            "Shreyas Iyer\n",
            "113\n",
            "111b\n",
            "the JSCA Stadium\n",
            "a pleasant\n",
            "Sunday\n",
            "161\n",
            "third\n",
            "India\n",
            "second\n",
            "three\n",
            "279\n",
            "4.1\n",
            "seven\n",
            "Shubman Gill\n",
            "Kagiso\n",
            "Kishan\n",
            "Kishan\n",
            "Anrich Nortje\n",
            "a hundred\n",
            "second\n",
            "India\n",
            "Sanju Samson\n",
            "South African\n",
            "129\n",
            "third\n",
            "Reeza Hendricks\n",
            "74\n",
            "76b\n",
            "1x6\n",
            "Aiden Markram\n",
            "79\n",
            "89b\n",
            "7x4\n",
            "1x6\n",
            "Janneman Malan\n",
            "Shahbaz Ahmed\n",
            "Shahbaz\n",
            "one\n",
            "two\n",
            "India\n",
            "first\n",
            "Lucknow\n",
            "Washington Sundar\n",
            "Ruturaj Gaikwad\n",
            "Ravi Bishnoi\n",
            "South Africa\n",
            "three\n",
            "Hendricks\n",
            "Anrich Nortje\n",
            "Bjorn Fortuin\n",
            "Temba Bavuma\n",
            "Tabraiz Shamsi\n",
            "Lungi Ngidi\n",
            "Shamsi\n",
            "Keshav Maharaj\n",
            "Siraj\n",
            "Indian\n",
            "South African\n",
            "Hendricks\n",
            "Markram\n",
            "India\n",
            "Shikhar Dhawan\n",
            "South Africa\n",
            "50\n",
            "Aiden Markram\n",
            "Reeza Hendricks\n",
            "Mohammed Siraj 3/38).India\n",
            "282/3\n",
            "45.5\n",
            "113\n",
            "Ishan Kishan 93\n",
            "Wayne Parnell\n"
          ]
        }
      ]
    },
    {
      "cell_type": "code",
      "source": [
        "for ent in texts.ents:\n",
        "  print(ent.text,ent.label_)"
      ],
      "metadata": {
        "colab": {
          "base_uri": "https://localhost:8080/"
        },
        "id": "gKxumznGEksp",
        "outputId": "c79ad67b-e116-45ba-9a65-7f5ef3a45614"
      },
      "execution_count": 27,
      "outputs": [
        {
          "output_type": "stream",
          "name": "stdout",
          "text": [
            "two CARDINAL\n",
            "South Africa GPE\n",
            "Ishan Kishan PERSON\n",
            "93 CARDINAL\n",
            "84b CARDINAL\n",
            "7x6 DATE\n",
            "Shreyas Iyer PERSON\n",
            "113 CARDINAL\n",
            "111b ORG\n",
            "the JSCA Stadium FAC\n",
            "a pleasant TIME\n",
            "Sunday DATE\n",
            "161 CARDINAL\n",
            "third ORDINAL\n",
            "India GPE\n",
            "second ORDINAL\n",
            "three CARDINAL\n",
            "279 CARDINAL\n",
            "4.1 CARDINAL\n",
            "seven CARDINAL\n",
            "Shubman Gill PERSON\n",
            "Kagiso GPE\n",
            "Kishan PERSON\n",
            "Kishan PERSON\n",
            "Anrich Nortje PERSON\n",
            "a hundred CARDINAL\n",
            "second ORDINAL\n",
            "India GPE\n",
            "Sanju Samson ORG\n",
            "South African NORP\n",
            "129 CARDINAL\n",
            "third ORDINAL\n",
            "Reeza Hendricks PERSON\n",
            "74 DATE\n",
            "76b CARDINAL\n",
            "1x6 CARDINAL\n",
            "Aiden Markram PERSON\n",
            "79 CARDINAL\n",
            "89b DATE\n",
            "7x4 ORG\n",
            "1x6 CARDINAL\n",
            "Janneman Malan PERSON\n",
            "Shahbaz Ahmed PERSON\n",
            "Shahbaz PERSON\n",
            "one CARDINAL\n",
            "two CARDINAL\n",
            "India GPE\n",
            "first ORDINAL\n",
            "Lucknow GPE\n",
            "Washington Sundar GPE\n",
            "Ruturaj Gaikwad PERSON\n",
            "Ravi Bishnoi PERSON\n",
            "South Africa GPE\n",
            "three CARDINAL\n",
            "Hendricks ORG\n",
            "Anrich Nortje PERSON\n",
            "Bjorn Fortuin ORG\n",
            "Temba Bavuma PERSON\n",
            "Tabraiz Shamsi PERSON\n",
            "Lungi Ngidi PERSON\n",
            "Shamsi ORG\n",
            "Keshav Maharaj PERSON\n",
            "Siraj PERSON\n",
            "Indian NORP\n",
            "South African NORP\n",
            "Hendricks PERSON\n",
            "Markram PRODUCT\n",
            "India GPE\n",
            "Shikhar Dhawan PERSON\n",
            "South Africa GPE\n",
            "50 CARDINAL\n",
            "Aiden Markram PERSON\n",
            "Reeza Hendricks PERSON\n",
            "Mohammed Siraj 3/38).India PERSON\n",
            "282/3 CARDINAL\n",
            "45.5 CARDINAL\n",
            "113 CARDINAL\n",
            "Ishan Kishan 93 PERSON\n",
            "Wayne Parnell PERSON\n"
          ]
        }
      ]
    },
    {
      "cell_type": "code",
      "source": [
        "for ent in texts.ents:\n",
        "  if ent.label_ == \"PERSON\":\n",
        "    print(ent.text)"
      ],
      "metadata": {
        "colab": {
          "base_uri": "https://localhost:8080/"
        },
        "id": "RRtb5fR2EylQ",
        "outputId": "1c9c10be-a6a3-4c60-a360-ace8669d3b35"
      },
      "execution_count": 28,
      "outputs": [
        {
          "output_type": "stream",
          "name": "stdout",
          "text": [
            "Ishan Kishan\n",
            "Shreyas Iyer\n",
            "Shubman Gill\n",
            "Kishan\n",
            "Kishan\n",
            "Anrich Nortje\n",
            "Reeza Hendricks\n",
            "Aiden Markram\n",
            "Janneman Malan\n",
            "Shahbaz Ahmed\n",
            "Shahbaz\n",
            "Ruturaj Gaikwad\n",
            "Ravi Bishnoi\n",
            "Anrich Nortje\n",
            "Temba Bavuma\n",
            "Tabraiz Shamsi\n",
            "Lungi Ngidi\n",
            "Keshav Maharaj\n",
            "Siraj\n",
            "Hendricks\n",
            "Shikhar Dhawan\n",
            "Aiden Markram\n",
            "Reeza Hendricks\n",
            "Mohammed Siraj 3/38).India\n",
            "Ishan Kishan 93\n",
            "Wayne Parnell\n"
          ]
        }
      ]
    },
    {
      "cell_type": "code",
      "source": [
        "for token in texts:\n",
        "  if token.ent_type_==\"DATE\":\n",
        "    print(token.text)"
      ],
      "metadata": {
        "colab": {
          "base_uri": "https://localhost:8080/"
        },
        "id": "N8YxtOjeF873",
        "outputId": "61df5459-8b10-41ab-e415-48273d35fe26"
      },
      "execution_count": 29,
      "outputs": [
        {
          "output_type": "stream",
          "name": "stdout",
          "text": [
            "7x6\n",
            "Sunday\n",
            "74\n",
            "89b\n"
          ]
        }
      ]
    },
    {
      "cell_type": "code",
      "source": [
        "for token in texts:\n",
        "  if token.ent_type_==\"DATE\":\n",
        "    print(token.text,\" \".join(i.text for i in token.subtree))"
      ],
      "metadata": {
        "colab": {
          "base_uri": "https://localhost:8080/"
        },
        "id": "qt39pctfGYE0",
        "outputId": "bb484596-ff0c-4639-b59a-ac808cc18626"
      },
      "execution_count": 30,
      "outputs": [
        {
          "output_type": "stream",
          "name": "stdout",
          "text": [
            "7x6 7x6\n",
            "Sunday Sunday\n",
            "74 74\n",
            "89b 89b\n"
          ]
        }
      ]
    },
    {
      "cell_type": "code",
      "source": [
        "for token in texts:\n",
        "  if token.ent_type_==\"PERSON\":\n",
        "    print(token.text,\" \".join(i.text for i in token.subtree))"
      ],
      "metadata": {
        "colab": {
          "base_uri": "https://localhost:8080/"
        },
        "id": "2rv40tYMGhmS",
        "outputId": "c1e7b879-d318-400d-eb5e-3f7bb12e4bf9"
      },
      "execution_count": 31,
      "outputs": [
        {
          "output_type": "stream",
          "name": "stdout",
          "text": [
            "Ishan Ishan\n",
            "Kishan Ishan Kishan   ( 93 , 84b , 4x4 , 7x6 )  \n",
            "Shreyas Shreyas\n",
            "Iyer Shreyas Iyer ( 113 not out , 111b , 15x4 ) at the JSCA Stadium on a pleasant Sunday night\n",
            "Shubman Shubman\n",
            "Gill opener Shubman Gill , who was looking in ominous touch before he fell to superb , low return catch to Kagiso\n",
            "Kishan Kishan\n",
            "Kishan Kishan\n",
            "Anrich Anrich\n",
            "Nortje Anrich Nortje , whom he smashed for successive sixes on the leg - side\n",
            "Reeza Reeza\n",
            "Hendricks Reeza Hendricks ( 74 , 76b , 9x4 , 1x6 ) and Aiden Markram ( 79 , 89b , 7x4 , 1x6 )\n",
            "Aiden Aiden\n",
            "Markram Aiden Markram ( 79 , 89b , 7x4 , 1x6 )\n",
            "Janneman Janneman\n",
            "Malan Janneman Malan , who was found to be lbw to debutant Shahbaz Ahmed when the original decision was reviewed\n",
            "Shahbaz Shahbaz\n",
            "Ahmed debutant Shahbaz Ahmed\n",
            "Shahbaz Shahbaz\n",
            "Ruturaj Ruturaj\n",
            "Gaikwad Ruturaj Gaikwad and Ravi Bishnoi\n",
            "Ravi Ravi\n",
            "Bishnoi Ravi Bishnoi\n",
            "Anrich Anrich\n",
            "Nortje Anrich Nortje and Bjorn Fortuin\n",
            "Temba Temba\n",
            "Bavuma skipper Temba Bavuma , Tabraiz Shamsi and Lungi Ngidi\n",
            "Tabraiz Tabraiz\n",
            "Shamsi Tabraiz Shamsi and Lungi Ngidi\n",
            "Lungi Lungi\n",
            "Ngidi Lungi Ngidi\n",
            "Keshav Keshav\n",
            "Maharaj Keshav Maharaj\n",
            "Siraj Siraj\n",
            "Hendricks Hendricks and Markram\n",
            "Shikhar Shikhar\n",
            "Dhawan Captain Shikhar Dhawan\n",
            "Aiden Aiden\n",
            "Markram Aiden Markram 79 , Reeza Hendricks 74\n",
            "Reeza Reeza\n",
            "Hendricks Reeza Hendricks 74\n",
            "Mohammed Mohammed\n",
            "Siraj Mohammed Siraj\n",
            "3/38).India Mohammed Siraj 3/38).India\n",
            "Ishan Ishan\n",
            "Kishan Ishan Kishan 93\n",
            "93 93\n",
            "Wayne Wayne\n",
            "Parnell Wayne Parnell 1/43 )\n"
          ]
        }
      ]
    },
    {
      "cell_type": "code",
      "source": [
        "for token in texts:\n",
        "  if token.ent_type_==\"GPE\":\n",
        "    print(token.text,\" \".join(i.text for i in token.subtree))"
      ],
      "metadata": {
        "colab": {
          "base_uri": "https://localhost:8080/"
        },
        "id": "Ov6HFGbLGpT7",
        "outputId": "143e6baf-2ff3-4969-e5d2-a8ee94e580e8"
      },
      "execution_count": 32,
      "outputs": [
        {
          "output_type": "stream",
          "name": "stdout",
          "text": [
            "South South\n",
            "Africa South Africa\n",
            "India India\n",
            "Kagiso Kagiso\n",
            "India India\n",
            "India India\n",
            "Lucknow Lucknow\n",
            "Washington Washington\n",
            "Sundar Washington Sundar\n",
            "South South\n",
            "Africa South Africa\n",
            "India India\n",
            "South South\n",
            "Africa South Africa\n"
          ]
        }
      ]
    },
    {
      "cell_type": "code",
      "source": [
        "for token in texts:\n",
        "    if token.ent_type_ ==\"PERSON\":\n",
        "        txt = \" \".join(i.text for i in token.subtree)\n",
        "        if txt != token.text:\n",
        "            print(token.text, \" \".join(i.text for i in token.subtree))\n",
        "        "
      ],
      "metadata": {
        "id": "bh7iyZPtGxu5"
      },
      "execution_count": null,
      "outputs": []
    },
    {
      "cell_type": "code",
      "source": [
        "for token in texts:\n",
        "  if token.ent_type_==\"PERSON\":\n",
        "    txt  = \" \".join(i.text for i in token.subtree)\n",
        "    if token.text != txt:\n",
        "      print(token.text, txt)"
      ],
      "metadata": {
        "colab": {
          "base_uri": "https://localhost:8080/"
        },
        "id": "NCIu7DsxG5x_",
        "outputId": "1dbe4a57-287f-4d2b-db7f-09d41c9f6f08"
      },
      "execution_count": 33,
      "outputs": [
        {
          "output_type": "stream",
          "name": "stdout",
          "text": [
            "Kishan Ishan Kishan   ( 93 , 84b , 4x4 , 7x6 )  \n",
            "Iyer Shreyas Iyer ( 113 not out , 111b , 15x4 ) at the JSCA Stadium on a pleasant Sunday night\n",
            "Gill opener Shubman Gill , who was looking in ominous touch before he fell to superb , low return catch to Kagiso\n",
            "Nortje Anrich Nortje , whom he smashed for successive sixes on the leg - side\n",
            "Hendricks Reeza Hendricks ( 74 , 76b , 9x4 , 1x6 ) and Aiden Markram ( 79 , 89b , 7x4 , 1x6 )\n",
            "Markram Aiden Markram ( 79 , 89b , 7x4 , 1x6 )\n",
            "Malan Janneman Malan , who was found to be lbw to debutant Shahbaz Ahmed when the original decision was reviewed\n",
            "Ahmed debutant Shahbaz Ahmed\n",
            "Gaikwad Ruturaj Gaikwad and Ravi Bishnoi\n",
            "Bishnoi Ravi Bishnoi\n",
            "Nortje Anrich Nortje and Bjorn Fortuin\n",
            "Bavuma skipper Temba Bavuma , Tabraiz Shamsi and Lungi Ngidi\n",
            "Shamsi Tabraiz Shamsi and Lungi Ngidi\n",
            "Ngidi Lungi Ngidi\n",
            "Maharaj Keshav Maharaj\n",
            "Hendricks Hendricks and Markram\n",
            "Dhawan Captain Shikhar Dhawan\n",
            "Markram Aiden Markram 79 , Reeza Hendricks 74\n",
            "Hendricks Reeza Hendricks 74\n",
            "Siraj Mohammed Siraj\n",
            "3/38).India Mohammed Siraj 3/38).India\n",
            "Kishan Ishan Kishan 93\n",
            "Parnell Wayne Parnell 1/43 )\n"
          ]
        }
      ]
    },
    {
      "cell_type": "code",
      "source": [
        "from spacy import displacy"
      ],
      "metadata": {
        "id": "ZgVZfx4EHUNS"
      },
      "execution_count": 34,
      "outputs": []
    },
    {
      "cell_type": "code",
      "source": [
        "sent1 = list(texts.sents)[1]\n",
        "sent1"
      ],
      "metadata": {
        "colab": {
          "base_uri": "https://localhost:8080/"
        },
        "id": "e89d1AVVHfYO",
        "outputId": "32ad7ed3-3d2b-43fb-eead-01a9ef189c93"
      },
      "execution_count": 37,
      "outputs": [
        {
          "output_type": "execute_result",
          "data": {
            "text/plain": [
              "When two talented stroke makers decide to put on a show for a near full-house, there isn’t much a fielding side could do."
            ]
          },
          "metadata": {},
          "execution_count": 37
        }
      ]
    },
    {
      "cell_type": "code",
      "source": [
        "displacy.render(sent1,jupyter=True)"
      ],
      "metadata": {
        "colab": {
          "base_uri": "https://localhost:8080/",
          "height": 616
        },
        "id": "EeSQXOnBIfHq",
        "outputId": "c201c9eb-f77f-430e-c36e-24a8242a2212"
      },
      "execution_count": 39,
      "outputs": [
        {
          "output_type": "display_data",
          "data": {
            "text/plain": [
              "<IPython.core.display.HTML object>"
            ],
            "text/html": [
              "<span class=\"tex2jax_ignore\"><svg xmlns=\"http://www.w3.org/2000/svg\" xmlns:xlink=\"http://www.w3.org/1999/xlink\" xml:lang=\"en\" id=\"5167fcb1c05e4d1f9e5cb7ac3c940580-0\" class=\"displacy\" width=\"4425\" height=\"574.5\" direction=\"ltr\" style=\"max-width: none; height: 574.5px; color: #000000; background: #ffffff; font-family: Arial; direction: ltr\">\n",
              "<text class=\"displacy-token\" fill=\"currentColor\" text-anchor=\"middle\" y=\"484.5\">\n",
              "    <tspan class=\"displacy-word\" fill=\"currentColor\" x=\"50\">When</tspan>\n",
              "    <tspan class=\"displacy-tag\" dy=\"2em\" fill=\"currentColor\" x=\"50\">SCONJ</tspan>\n",
              "</text>\n",
              "\n",
              "<text class=\"displacy-token\" fill=\"currentColor\" text-anchor=\"middle\" y=\"484.5\">\n",
              "    <tspan class=\"displacy-word\" fill=\"currentColor\" x=\"225\">two</tspan>\n",
              "    <tspan class=\"displacy-tag\" dy=\"2em\" fill=\"currentColor\" x=\"225\">NUM</tspan>\n",
              "</text>\n",
              "\n",
              "<text class=\"displacy-token\" fill=\"currentColor\" text-anchor=\"middle\" y=\"484.5\">\n",
              "    <tspan class=\"displacy-word\" fill=\"currentColor\" x=\"400\">talented</tspan>\n",
              "    <tspan class=\"displacy-tag\" dy=\"2em\" fill=\"currentColor\" x=\"400\">ADJ</tspan>\n",
              "</text>\n",
              "\n",
              "<text class=\"displacy-token\" fill=\"currentColor\" text-anchor=\"middle\" y=\"484.5\">\n",
              "    <tspan class=\"displacy-word\" fill=\"currentColor\" x=\"575\">stroke</tspan>\n",
              "    <tspan class=\"displacy-tag\" dy=\"2em\" fill=\"currentColor\" x=\"575\">NOUN</tspan>\n",
              "</text>\n",
              "\n",
              "<text class=\"displacy-token\" fill=\"currentColor\" text-anchor=\"middle\" y=\"484.5\">\n",
              "    <tspan class=\"displacy-word\" fill=\"currentColor\" x=\"750\">makers</tspan>\n",
              "    <tspan class=\"displacy-tag\" dy=\"2em\" fill=\"currentColor\" x=\"750\">NOUN</tspan>\n",
              "</text>\n",
              "\n",
              "<text class=\"displacy-token\" fill=\"currentColor\" text-anchor=\"middle\" y=\"484.5\">\n",
              "    <tspan class=\"displacy-word\" fill=\"currentColor\" x=\"925\">decide</tspan>\n",
              "    <tspan class=\"displacy-tag\" dy=\"2em\" fill=\"currentColor\" x=\"925\">VERB</tspan>\n",
              "</text>\n",
              "\n",
              "<text class=\"displacy-token\" fill=\"currentColor\" text-anchor=\"middle\" y=\"484.5\">\n",
              "    <tspan class=\"displacy-word\" fill=\"currentColor\" x=\"1100\">to</tspan>\n",
              "    <tspan class=\"displacy-tag\" dy=\"2em\" fill=\"currentColor\" x=\"1100\">PART</tspan>\n",
              "</text>\n",
              "\n",
              "<text class=\"displacy-token\" fill=\"currentColor\" text-anchor=\"middle\" y=\"484.5\">\n",
              "    <tspan class=\"displacy-word\" fill=\"currentColor\" x=\"1275\">put</tspan>\n",
              "    <tspan class=\"displacy-tag\" dy=\"2em\" fill=\"currentColor\" x=\"1275\">VERB</tspan>\n",
              "</text>\n",
              "\n",
              "<text class=\"displacy-token\" fill=\"currentColor\" text-anchor=\"middle\" y=\"484.5\">\n",
              "    <tspan class=\"displacy-word\" fill=\"currentColor\" x=\"1450\">on</tspan>\n",
              "    <tspan class=\"displacy-tag\" dy=\"2em\" fill=\"currentColor\" x=\"1450\">ADP</tspan>\n",
              "</text>\n",
              "\n",
              "<text class=\"displacy-token\" fill=\"currentColor\" text-anchor=\"middle\" y=\"484.5\">\n",
              "    <tspan class=\"displacy-word\" fill=\"currentColor\" x=\"1625\">a</tspan>\n",
              "    <tspan class=\"displacy-tag\" dy=\"2em\" fill=\"currentColor\" x=\"1625\">DET</tspan>\n",
              "</text>\n",
              "\n",
              "<text class=\"displacy-token\" fill=\"currentColor\" text-anchor=\"middle\" y=\"484.5\">\n",
              "    <tspan class=\"displacy-word\" fill=\"currentColor\" x=\"1800\">show</tspan>\n",
              "    <tspan class=\"displacy-tag\" dy=\"2em\" fill=\"currentColor\" x=\"1800\">NOUN</tspan>\n",
              "</text>\n",
              "\n",
              "<text class=\"displacy-token\" fill=\"currentColor\" text-anchor=\"middle\" y=\"484.5\">\n",
              "    <tspan class=\"displacy-word\" fill=\"currentColor\" x=\"1975\">for</tspan>\n",
              "    <tspan class=\"displacy-tag\" dy=\"2em\" fill=\"currentColor\" x=\"1975\">ADP</tspan>\n",
              "</text>\n",
              "\n",
              "<text class=\"displacy-token\" fill=\"currentColor\" text-anchor=\"middle\" y=\"484.5\">\n",
              "    <tspan class=\"displacy-word\" fill=\"currentColor\" x=\"2150\">a</tspan>\n",
              "    <tspan class=\"displacy-tag\" dy=\"2em\" fill=\"currentColor\" x=\"2150\">DET</tspan>\n",
              "</text>\n",
              "\n",
              "<text class=\"displacy-token\" fill=\"currentColor\" text-anchor=\"middle\" y=\"484.5\">\n",
              "    <tspan class=\"displacy-word\" fill=\"currentColor\" x=\"2325\">near</tspan>\n",
              "    <tspan class=\"displacy-tag\" dy=\"2em\" fill=\"currentColor\" x=\"2325\">ADJ</tspan>\n",
              "</text>\n",
              "\n",
              "<text class=\"displacy-token\" fill=\"currentColor\" text-anchor=\"middle\" y=\"484.5\">\n",
              "    <tspan class=\"displacy-word\" fill=\"currentColor\" x=\"2500\">full-</tspan>\n",
              "    <tspan class=\"displacy-tag\" dy=\"2em\" fill=\"currentColor\" x=\"2500\">ADJ</tspan>\n",
              "</text>\n",
              "\n",
              "<text class=\"displacy-token\" fill=\"currentColor\" text-anchor=\"middle\" y=\"484.5\">\n",
              "    <tspan class=\"displacy-word\" fill=\"currentColor\" x=\"2675\">house,</tspan>\n",
              "    <tspan class=\"displacy-tag\" dy=\"2em\" fill=\"currentColor\" x=\"2675\">NOUN</tspan>\n",
              "</text>\n",
              "\n",
              "<text class=\"displacy-token\" fill=\"currentColor\" text-anchor=\"middle\" y=\"484.5\">\n",
              "    <tspan class=\"displacy-word\" fill=\"currentColor\" x=\"2850\">there</tspan>\n",
              "    <tspan class=\"displacy-tag\" dy=\"2em\" fill=\"currentColor\" x=\"2850\">PRON</tspan>\n",
              "</text>\n",
              "\n",
              "<text class=\"displacy-token\" fill=\"currentColor\" text-anchor=\"middle\" y=\"484.5\">\n",
              "    <tspan class=\"displacy-word\" fill=\"currentColor\" x=\"3025\">is</tspan>\n",
              "    <tspan class=\"displacy-tag\" dy=\"2em\" fill=\"currentColor\" x=\"3025\">VERB</tspan>\n",
              "</text>\n",
              "\n",
              "<text class=\"displacy-token\" fill=\"currentColor\" text-anchor=\"middle\" y=\"484.5\">\n",
              "    <tspan class=\"displacy-word\" fill=\"currentColor\" x=\"3200\">n’t</tspan>\n",
              "    <tspan class=\"displacy-tag\" dy=\"2em\" fill=\"currentColor\" x=\"3200\">PART</tspan>\n",
              "</text>\n",
              "\n",
              "<text class=\"displacy-token\" fill=\"currentColor\" text-anchor=\"middle\" y=\"484.5\">\n",
              "    <tspan class=\"displacy-word\" fill=\"currentColor\" x=\"3375\">much</tspan>\n",
              "    <tspan class=\"displacy-tag\" dy=\"2em\" fill=\"currentColor\" x=\"3375\">ADV</tspan>\n",
              "</text>\n",
              "\n",
              "<text class=\"displacy-token\" fill=\"currentColor\" text-anchor=\"middle\" y=\"484.5\">\n",
              "    <tspan class=\"displacy-word\" fill=\"currentColor\" x=\"3550\">a</tspan>\n",
              "    <tspan class=\"displacy-tag\" dy=\"2em\" fill=\"currentColor\" x=\"3550\">DET</tspan>\n",
              "</text>\n",
              "\n",
              "<text class=\"displacy-token\" fill=\"currentColor\" text-anchor=\"middle\" y=\"484.5\">\n",
              "    <tspan class=\"displacy-word\" fill=\"currentColor\" x=\"3725\">fielding</tspan>\n",
              "    <tspan class=\"displacy-tag\" dy=\"2em\" fill=\"currentColor\" x=\"3725\">NOUN</tspan>\n",
              "</text>\n",
              "\n",
              "<text class=\"displacy-token\" fill=\"currentColor\" text-anchor=\"middle\" y=\"484.5\">\n",
              "    <tspan class=\"displacy-word\" fill=\"currentColor\" x=\"3900\">side</tspan>\n",
              "    <tspan class=\"displacy-tag\" dy=\"2em\" fill=\"currentColor\" x=\"3900\">NOUN</tspan>\n",
              "</text>\n",
              "\n",
              "<text class=\"displacy-token\" fill=\"currentColor\" text-anchor=\"middle\" y=\"484.5\">\n",
              "    <tspan class=\"displacy-word\" fill=\"currentColor\" x=\"4075\">could</tspan>\n",
              "    <tspan class=\"displacy-tag\" dy=\"2em\" fill=\"currentColor\" x=\"4075\">AUX</tspan>\n",
              "</text>\n",
              "\n",
              "<text class=\"displacy-token\" fill=\"currentColor\" text-anchor=\"middle\" y=\"484.5\">\n",
              "    <tspan class=\"displacy-word\" fill=\"currentColor\" x=\"4250\">do.</tspan>\n",
              "    <tspan class=\"displacy-tag\" dy=\"2em\" fill=\"currentColor\" x=\"4250\">VERB</tspan>\n",
              "</text>\n",
              "\n",
              "<g class=\"displacy-arrow\">\n",
              "    <path class=\"displacy-arc\" id=\"arrow-5167fcb1c05e4d1f9e5cb7ac3c940580-0-0\" stroke-width=\"2px\" d=\"M70,439.5 C70,89.5 920.0,89.5 920.0,439.5\" fill=\"none\" stroke=\"currentColor\"/>\n",
              "    <text dy=\"1.25em\" style=\"font-size: 0.8em; letter-spacing: 1px\">\n",
              "        <textPath xlink:href=\"#arrow-5167fcb1c05e4d1f9e5cb7ac3c940580-0-0\" class=\"displacy-label\" startOffset=\"50%\" side=\"left\" fill=\"currentColor\" text-anchor=\"middle\">advmod</textPath>\n",
              "    </text>\n",
              "    <path class=\"displacy-arrowhead\" d=\"M70,441.5 L62,429.5 78,429.5\" fill=\"currentColor\"/>\n",
              "</g>\n",
              "\n",
              "<g class=\"displacy-arrow\">\n",
              "    <path class=\"displacy-arc\" id=\"arrow-5167fcb1c05e4d1f9e5cb7ac3c940580-0-1\" stroke-width=\"2px\" d=\"M245,439.5 C245,177.0 740.0,177.0 740.0,439.5\" fill=\"none\" stroke=\"currentColor\"/>\n",
              "    <text dy=\"1.25em\" style=\"font-size: 0.8em; letter-spacing: 1px\">\n",
              "        <textPath xlink:href=\"#arrow-5167fcb1c05e4d1f9e5cb7ac3c940580-0-1\" class=\"displacy-label\" startOffset=\"50%\" side=\"left\" fill=\"currentColor\" text-anchor=\"middle\">nummod</textPath>\n",
              "    </text>\n",
              "    <path class=\"displacy-arrowhead\" d=\"M245,441.5 L237,429.5 253,429.5\" fill=\"currentColor\"/>\n",
              "</g>\n",
              "\n",
              "<g class=\"displacy-arrow\">\n",
              "    <path class=\"displacy-arc\" id=\"arrow-5167fcb1c05e4d1f9e5cb7ac3c940580-0-2\" stroke-width=\"2px\" d=\"M420,439.5 C420,264.5 735.0,264.5 735.0,439.5\" fill=\"none\" stroke=\"currentColor\"/>\n",
              "    <text dy=\"1.25em\" style=\"font-size: 0.8em; letter-spacing: 1px\">\n",
              "        <textPath xlink:href=\"#arrow-5167fcb1c05e4d1f9e5cb7ac3c940580-0-2\" class=\"displacy-label\" startOffset=\"50%\" side=\"left\" fill=\"currentColor\" text-anchor=\"middle\">amod</textPath>\n",
              "    </text>\n",
              "    <path class=\"displacy-arrowhead\" d=\"M420,441.5 L412,429.5 428,429.5\" fill=\"currentColor\"/>\n",
              "</g>\n",
              "\n",
              "<g class=\"displacy-arrow\">\n",
              "    <path class=\"displacy-arc\" id=\"arrow-5167fcb1c05e4d1f9e5cb7ac3c940580-0-3\" stroke-width=\"2px\" d=\"M595,439.5 C595,352.0 730.0,352.0 730.0,439.5\" fill=\"none\" stroke=\"currentColor\"/>\n",
              "    <text dy=\"1.25em\" style=\"font-size: 0.8em; letter-spacing: 1px\">\n",
              "        <textPath xlink:href=\"#arrow-5167fcb1c05e4d1f9e5cb7ac3c940580-0-3\" class=\"displacy-label\" startOffset=\"50%\" side=\"left\" fill=\"currentColor\" text-anchor=\"middle\">compound</textPath>\n",
              "    </text>\n",
              "    <path class=\"displacy-arrowhead\" d=\"M595,441.5 L587,429.5 603,429.5\" fill=\"currentColor\"/>\n",
              "</g>\n",
              "\n",
              "<g class=\"displacy-arrow\">\n",
              "    <path class=\"displacy-arc\" id=\"arrow-5167fcb1c05e4d1f9e5cb7ac3c940580-0-4\" stroke-width=\"2px\" d=\"M770,439.5 C770,352.0 905.0,352.0 905.0,439.5\" fill=\"none\" stroke=\"currentColor\"/>\n",
              "    <text dy=\"1.25em\" style=\"font-size: 0.8em; letter-spacing: 1px\">\n",
              "        <textPath xlink:href=\"#arrow-5167fcb1c05e4d1f9e5cb7ac3c940580-0-4\" class=\"displacy-label\" startOffset=\"50%\" side=\"left\" fill=\"currentColor\" text-anchor=\"middle\">nsubj</textPath>\n",
              "    </text>\n",
              "    <path class=\"displacy-arrowhead\" d=\"M770,441.5 L762,429.5 778,429.5\" fill=\"currentColor\"/>\n",
              "</g>\n",
              "\n",
              "<g class=\"displacy-arrow\">\n",
              "    <path class=\"displacy-arc\" id=\"arrow-5167fcb1c05e4d1f9e5cb7ac3c940580-0-5\" stroke-width=\"2px\" d=\"M945,439.5 C945,2.0 3025.0,2.0 3025.0,439.5\" fill=\"none\" stroke=\"currentColor\"/>\n",
              "    <text dy=\"1.25em\" style=\"font-size: 0.8em; letter-spacing: 1px\">\n",
              "        <textPath xlink:href=\"#arrow-5167fcb1c05e4d1f9e5cb7ac3c940580-0-5\" class=\"displacy-label\" startOffset=\"50%\" side=\"left\" fill=\"currentColor\" text-anchor=\"middle\">advcl</textPath>\n",
              "    </text>\n",
              "    <path class=\"displacy-arrowhead\" d=\"M945,441.5 L937,429.5 953,429.5\" fill=\"currentColor\"/>\n",
              "</g>\n",
              "\n",
              "<g class=\"displacy-arrow\">\n",
              "    <path class=\"displacy-arc\" id=\"arrow-5167fcb1c05e4d1f9e5cb7ac3c940580-0-6\" stroke-width=\"2px\" d=\"M1120,439.5 C1120,352.0 1255.0,352.0 1255.0,439.5\" fill=\"none\" stroke=\"currentColor\"/>\n",
              "    <text dy=\"1.25em\" style=\"font-size: 0.8em; letter-spacing: 1px\">\n",
              "        <textPath xlink:href=\"#arrow-5167fcb1c05e4d1f9e5cb7ac3c940580-0-6\" class=\"displacy-label\" startOffset=\"50%\" side=\"left\" fill=\"currentColor\" text-anchor=\"middle\">aux</textPath>\n",
              "    </text>\n",
              "    <path class=\"displacy-arrowhead\" d=\"M1120,441.5 L1112,429.5 1128,429.5\" fill=\"currentColor\"/>\n",
              "</g>\n",
              "\n",
              "<g class=\"displacy-arrow\">\n",
              "    <path class=\"displacy-arc\" id=\"arrow-5167fcb1c05e4d1f9e5cb7ac3c940580-0-7\" stroke-width=\"2px\" d=\"M945,439.5 C945,264.5 1260.0,264.5 1260.0,439.5\" fill=\"none\" stroke=\"currentColor\"/>\n",
              "    <text dy=\"1.25em\" style=\"font-size: 0.8em; letter-spacing: 1px\">\n",
              "        <textPath xlink:href=\"#arrow-5167fcb1c05e4d1f9e5cb7ac3c940580-0-7\" class=\"displacy-label\" startOffset=\"50%\" side=\"left\" fill=\"currentColor\" text-anchor=\"middle\">xcomp</textPath>\n",
              "    </text>\n",
              "    <path class=\"displacy-arrowhead\" d=\"M1260.0,441.5 L1268.0,429.5 1252.0,429.5\" fill=\"currentColor\"/>\n",
              "</g>\n",
              "\n",
              "<g class=\"displacy-arrow\">\n",
              "    <path class=\"displacy-arc\" id=\"arrow-5167fcb1c05e4d1f9e5cb7ac3c940580-0-8\" stroke-width=\"2px\" d=\"M1295,439.5 C1295,352.0 1430.0,352.0 1430.0,439.5\" fill=\"none\" stroke=\"currentColor\"/>\n",
              "    <text dy=\"1.25em\" style=\"font-size: 0.8em; letter-spacing: 1px\">\n",
              "        <textPath xlink:href=\"#arrow-5167fcb1c05e4d1f9e5cb7ac3c940580-0-8\" class=\"displacy-label\" startOffset=\"50%\" side=\"left\" fill=\"currentColor\" text-anchor=\"middle\">prt</textPath>\n",
              "    </text>\n",
              "    <path class=\"displacy-arrowhead\" d=\"M1430.0,441.5 L1438.0,429.5 1422.0,429.5\" fill=\"currentColor\"/>\n",
              "</g>\n",
              "\n",
              "<g class=\"displacy-arrow\">\n",
              "    <path class=\"displacy-arc\" id=\"arrow-5167fcb1c05e4d1f9e5cb7ac3c940580-0-9\" stroke-width=\"2px\" d=\"M1645,439.5 C1645,352.0 1780.0,352.0 1780.0,439.5\" fill=\"none\" stroke=\"currentColor\"/>\n",
              "    <text dy=\"1.25em\" style=\"font-size: 0.8em; letter-spacing: 1px\">\n",
              "        <textPath xlink:href=\"#arrow-5167fcb1c05e4d1f9e5cb7ac3c940580-0-9\" class=\"displacy-label\" startOffset=\"50%\" side=\"left\" fill=\"currentColor\" text-anchor=\"middle\">det</textPath>\n",
              "    </text>\n",
              "    <path class=\"displacy-arrowhead\" d=\"M1645,441.5 L1637,429.5 1653,429.5\" fill=\"currentColor\"/>\n",
              "</g>\n",
              "\n",
              "<g class=\"displacy-arrow\">\n",
              "    <path class=\"displacy-arc\" id=\"arrow-5167fcb1c05e4d1f9e5cb7ac3c940580-0-10\" stroke-width=\"2px\" d=\"M1295,439.5 C1295,264.5 1785.0,264.5 1785.0,439.5\" fill=\"none\" stroke=\"currentColor\"/>\n",
              "    <text dy=\"1.25em\" style=\"font-size: 0.8em; letter-spacing: 1px\">\n",
              "        <textPath xlink:href=\"#arrow-5167fcb1c05e4d1f9e5cb7ac3c940580-0-10\" class=\"displacy-label\" startOffset=\"50%\" side=\"left\" fill=\"currentColor\" text-anchor=\"middle\">dobj</textPath>\n",
              "    </text>\n",
              "    <path class=\"displacy-arrowhead\" d=\"M1785.0,441.5 L1793.0,429.5 1777.0,429.5\" fill=\"currentColor\"/>\n",
              "</g>\n",
              "\n",
              "<g class=\"displacy-arrow\">\n",
              "    <path class=\"displacy-arc\" id=\"arrow-5167fcb1c05e4d1f9e5cb7ac3c940580-0-11\" stroke-width=\"2px\" d=\"M1820,439.5 C1820,352.0 1955.0,352.0 1955.0,439.5\" fill=\"none\" stroke=\"currentColor\"/>\n",
              "    <text dy=\"1.25em\" style=\"font-size: 0.8em; letter-spacing: 1px\">\n",
              "        <textPath xlink:href=\"#arrow-5167fcb1c05e4d1f9e5cb7ac3c940580-0-11\" class=\"displacy-label\" startOffset=\"50%\" side=\"left\" fill=\"currentColor\" text-anchor=\"middle\">prep</textPath>\n",
              "    </text>\n",
              "    <path class=\"displacy-arrowhead\" d=\"M1955.0,441.5 L1963.0,429.5 1947.0,429.5\" fill=\"currentColor\"/>\n",
              "</g>\n",
              "\n",
              "<g class=\"displacy-arrow\">\n",
              "    <path class=\"displacy-arc\" id=\"arrow-5167fcb1c05e4d1f9e5cb7ac3c940580-0-12\" stroke-width=\"2px\" d=\"M2170,439.5 C2170,177.0 2665.0,177.0 2665.0,439.5\" fill=\"none\" stroke=\"currentColor\"/>\n",
              "    <text dy=\"1.25em\" style=\"font-size: 0.8em; letter-spacing: 1px\">\n",
              "        <textPath xlink:href=\"#arrow-5167fcb1c05e4d1f9e5cb7ac3c940580-0-12\" class=\"displacy-label\" startOffset=\"50%\" side=\"left\" fill=\"currentColor\" text-anchor=\"middle\">det</textPath>\n",
              "    </text>\n",
              "    <path class=\"displacy-arrowhead\" d=\"M2170,441.5 L2162,429.5 2178,429.5\" fill=\"currentColor\"/>\n",
              "</g>\n",
              "\n",
              "<g class=\"displacy-arrow\">\n",
              "    <path class=\"displacy-arc\" id=\"arrow-5167fcb1c05e4d1f9e5cb7ac3c940580-0-13\" stroke-width=\"2px\" d=\"M2345,439.5 C2345,264.5 2660.0,264.5 2660.0,439.5\" fill=\"none\" stroke=\"currentColor\"/>\n",
              "    <text dy=\"1.25em\" style=\"font-size: 0.8em; letter-spacing: 1px\">\n",
              "        <textPath xlink:href=\"#arrow-5167fcb1c05e4d1f9e5cb7ac3c940580-0-13\" class=\"displacy-label\" startOffset=\"50%\" side=\"left\" fill=\"currentColor\" text-anchor=\"middle\">amod</textPath>\n",
              "    </text>\n",
              "    <path class=\"displacy-arrowhead\" d=\"M2345,441.5 L2337,429.5 2353,429.5\" fill=\"currentColor\"/>\n",
              "</g>\n",
              "\n",
              "<g class=\"displacy-arrow\">\n",
              "    <path class=\"displacy-arc\" id=\"arrow-5167fcb1c05e4d1f9e5cb7ac3c940580-0-14\" stroke-width=\"2px\" d=\"M2520,439.5 C2520,352.0 2655.0,352.0 2655.0,439.5\" fill=\"none\" stroke=\"currentColor\"/>\n",
              "    <text dy=\"1.25em\" style=\"font-size: 0.8em; letter-spacing: 1px\">\n",
              "        <textPath xlink:href=\"#arrow-5167fcb1c05e4d1f9e5cb7ac3c940580-0-14\" class=\"displacy-label\" startOffset=\"50%\" side=\"left\" fill=\"currentColor\" text-anchor=\"middle\">amod</textPath>\n",
              "    </text>\n",
              "    <path class=\"displacy-arrowhead\" d=\"M2520,441.5 L2512,429.5 2528,429.5\" fill=\"currentColor\"/>\n",
              "</g>\n",
              "\n",
              "<g class=\"displacy-arrow\">\n",
              "    <path class=\"displacy-arc\" id=\"arrow-5167fcb1c05e4d1f9e5cb7ac3c940580-0-15\" stroke-width=\"2px\" d=\"M1995,439.5 C1995,89.5 2670.0,89.5 2670.0,439.5\" fill=\"none\" stroke=\"currentColor\"/>\n",
              "    <text dy=\"1.25em\" style=\"font-size: 0.8em; letter-spacing: 1px\">\n",
              "        <textPath xlink:href=\"#arrow-5167fcb1c05e4d1f9e5cb7ac3c940580-0-15\" class=\"displacy-label\" startOffset=\"50%\" side=\"left\" fill=\"currentColor\" text-anchor=\"middle\">pobj</textPath>\n",
              "    </text>\n",
              "    <path class=\"displacy-arrowhead\" d=\"M2670.0,441.5 L2678.0,429.5 2662.0,429.5\" fill=\"currentColor\"/>\n",
              "</g>\n",
              "\n",
              "<g class=\"displacy-arrow\">\n",
              "    <path class=\"displacy-arc\" id=\"arrow-5167fcb1c05e4d1f9e5cb7ac3c940580-0-16\" stroke-width=\"2px\" d=\"M2870,439.5 C2870,352.0 3005.0,352.0 3005.0,439.5\" fill=\"none\" stroke=\"currentColor\"/>\n",
              "    <text dy=\"1.25em\" style=\"font-size: 0.8em; letter-spacing: 1px\">\n",
              "        <textPath xlink:href=\"#arrow-5167fcb1c05e4d1f9e5cb7ac3c940580-0-16\" class=\"displacy-label\" startOffset=\"50%\" side=\"left\" fill=\"currentColor\" text-anchor=\"middle\">expl</textPath>\n",
              "    </text>\n",
              "    <path class=\"displacy-arrowhead\" d=\"M2870,441.5 L2862,429.5 2878,429.5\" fill=\"currentColor\"/>\n",
              "</g>\n",
              "\n",
              "<g class=\"displacy-arrow\">\n",
              "    <path class=\"displacy-arc\" id=\"arrow-5167fcb1c05e4d1f9e5cb7ac3c940580-0-17\" stroke-width=\"2px\" d=\"M3045,439.5 C3045,352.0 3180.0,352.0 3180.0,439.5\" fill=\"none\" stroke=\"currentColor\"/>\n",
              "    <text dy=\"1.25em\" style=\"font-size: 0.8em; letter-spacing: 1px\">\n",
              "        <textPath xlink:href=\"#arrow-5167fcb1c05e4d1f9e5cb7ac3c940580-0-17\" class=\"displacy-label\" startOffset=\"50%\" side=\"left\" fill=\"currentColor\" text-anchor=\"middle\">neg</textPath>\n",
              "    </text>\n",
              "    <path class=\"displacy-arrowhead\" d=\"M3180.0,441.5 L3188.0,429.5 3172.0,429.5\" fill=\"currentColor\"/>\n",
              "</g>\n",
              "\n",
              "<g class=\"displacy-arrow\">\n",
              "    <path class=\"displacy-arc\" id=\"arrow-5167fcb1c05e4d1f9e5cb7ac3c940580-0-18\" stroke-width=\"2px\" d=\"M3045,439.5 C3045,264.5 3360.0,264.5 3360.0,439.5\" fill=\"none\" stroke=\"currentColor\"/>\n",
              "    <text dy=\"1.25em\" style=\"font-size: 0.8em; letter-spacing: 1px\">\n",
              "        <textPath xlink:href=\"#arrow-5167fcb1c05e4d1f9e5cb7ac3c940580-0-18\" class=\"displacy-label\" startOffset=\"50%\" side=\"left\" fill=\"currentColor\" text-anchor=\"middle\">attr</textPath>\n",
              "    </text>\n",
              "    <path class=\"displacy-arrowhead\" d=\"M3360.0,441.5 L3368.0,429.5 3352.0,429.5\" fill=\"currentColor\"/>\n",
              "</g>\n",
              "\n",
              "<g class=\"displacy-arrow\">\n",
              "    <path class=\"displacy-arc\" id=\"arrow-5167fcb1c05e4d1f9e5cb7ac3c940580-0-19\" stroke-width=\"2px\" d=\"M3570,439.5 C3570,264.5 3885.0,264.5 3885.0,439.5\" fill=\"none\" stroke=\"currentColor\"/>\n",
              "    <text dy=\"1.25em\" style=\"font-size: 0.8em; letter-spacing: 1px\">\n",
              "        <textPath xlink:href=\"#arrow-5167fcb1c05e4d1f9e5cb7ac3c940580-0-19\" class=\"displacy-label\" startOffset=\"50%\" side=\"left\" fill=\"currentColor\" text-anchor=\"middle\">det</textPath>\n",
              "    </text>\n",
              "    <path class=\"displacy-arrowhead\" d=\"M3570,441.5 L3562,429.5 3578,429.5\" fill=\"currentColor\"/>\n",
              "</g>\n",
              "\n",
              "<g class=\"displacy-arrow\">\n",
              "    <path class=\"displacy-arc\" id=\"arrow-5167fcb1c05e4d1f9e5cb7ac3c940580-0-20\" stroke-width=\"2px\" d=\"M3745,439.5 C3745,352.0 3880.0,352.0 3880.0,439.5\" fill=\"none\" stroke=\"currentColor\"/>\n",
              "    <text dy=\"1.25em\" style=\"font-size: 0.8em; letter-spacing: 1px\">\n",
              "        <textPath xlink:href=\"#arrow-5167fcb1c05e4d1f9e5cb7ac3c940580-0-20\" class=\"displacy-label\" startOffset=\"50%\" side=\"left\" fill=\"currentColor\" text-anchor=\"middle\">compound</textPath>\n",
              "    </text>\n",
              "    <path class=\"displacy-arrowhead\" d=\"M3745,441.5 L3737,429.5 3753,429.5\" fill=\"currentColor\"/>\n",
              "</g>\n",
              "\n",
              "<g class=\"displacy-arrow\">\n",
              "    <path class=\"displacy-arc\" id=\"arrow-5167fcb1c05e4d1f9e5cb7ac3c940580-0-21\" stroke-width=\"2px\" d=\"M3920,439.5 C3920,264.5 4235.0,264.5 4235.0,439.5\" fill=\"none\" stroke=\"currentColor\"/>\n",
              "    <text dy=\"1.25em\" style=\"font-size: 0.8em; letter-spacing: 1px\">\n",
              "        <textPath xlink:href=\"#arrow-5167fcb1c05e4d1f9e5cb7ac3c940580-0-21\" class=\"displacy-label\" startOffset=\"50%\" side=\"left\" fill=\"currentColor\" text-anchor=\"middle\">nsubj</textPath>\n",
              "    </text>\n",
              "    <path class=\"displacy-arrowhead\" d=\"M3920,441.5 L3912,429.5 3928,429.5\" fill=\"currentColor\"/>\n",
              "</g>\n",
              "\n",
              "<g class=\"displacy-arrow\">\n",
              "    <path class=\"displacy-arc\" id=\"arrow-5167fcb1c05e4d1f9e5cb7ac3c940580-0-22\" stroke-width=\"2px\" d=\"M4095,439.5 C4095,352.0 4230.0,352.0 4230.0,439.5\" fill=\"none\" stroke=\"currentColor\"/>\n",
              "    <text dy=\"1.25em\" style=\"font-size: 0.8em; letter-spacing: 1px\">\n",
              "        <textPath xlink:href=\"#arrow-5167fcb1c05e4d1f9e5cb7ac3c940580-0-22\" class=\"displacy-label\" startOffset=\"50%\" side=\"left\" fill=\"currentColor\" text-anchor=\"middle\">aux</textPath>\n",
              "    </text>\n",
              "    <path class=\"displacy-arrowhead\" d=\"M4095,441.5 L4087,429.5 4103,429.5\" fill=\"currentColor\"/>\n",
              "</g>\n",
              "\n",
              "<g class=\"displacy-arrow\">\n",
              "    <path class=\"displacy-arc\" id=\"arrow-5167fcb1c05e4d1f9e5cb7ac3c940580-0-23\" stroke-width=\"2px\" d=\"M3045,439.5 C3045,177.0 4240.0,177.0 4240.0,439.5\" fill=\"none\" stroke=\"currentColor\"/>\n",
              "    <text dy=\"1.25em\" style=\"font-size: 0.8em; letter-spacing: 1px\">\n",
              "        <textPath xlink:href=\"#arrow-5167fcb1c05e4d1f9e5cb7ac3c940580-0-23\" class=\"displacy-label\" startOffset=\"50%\" side=\"left\" fill=\"currentColor\" text-anchor=\"middle\">ccomp</textPath>\n",
              "    </text>\n",
              "    <path class=\"displacy-arrowhead\" d=\"M4240.0,441.5 L4248.0,429.5 4232.0,429.5\" fill=\"currentColor\"/>\n",
              "</g>\n",
              "</svg></span>"
            ]
          },
          "metadata": {}
        }
      ]
    },
    {
      "cell_type": "code",
      "source": [],
      "metadata": {
        "id": "ZLON-ZKMIuMg"
      },
      "execution_count": null,
      "outputs": []
    }
  ]
}